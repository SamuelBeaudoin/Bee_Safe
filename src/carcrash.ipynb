{
 "cells": [
  {
   "cell_type": "code",
   "execution_count": 5,
   "metadata": {},
   "outputs": [],
   "source": [
    "import pandas as pd\n",
    "import plotly.express as px\n"
   ]
  },
  {
   "cell_type": "code",
   "execution_count": 14,
   "metadata": {},
   "outputs": [
    {
     "data": {
      "text/html": [
       "<div>\n",
       "<style scoped>\n",
       "    .dataframe tbody tr th:only-of-type {\n",
       "        vertical-align: middle;\n",
       "    }\n",
       "\n",
       "    .dataframe tbody tr th {\n",
       "        vertical-align: top;\n",
       "    }\n",
       "\n",
       "    .dataframe thead th {\n",
       "        text-align: right;\n",
       "    }\n",
       "</style>\n",
       "<table border=\"1\" class=\"dataframe\">\n",
       "  <thead>\n",
       "    <tr style=\"text-align: right;\">\n",
       "      <th></th>\n",
       "      <th>CATEGORIE</th>\n",
       "    </tr>\n",
       "  </thead>\n",
       "  <tbody>\n",
       "    <tr>\n",
       "      <th>0</th>\n",
       "      <td>Dommages matériels inférieurs au seuil de rapp...</td>\n",
       "    </tr>\n",
       "    <tr>\n",
       "      <th>1</th>\n",
       "      <td>Dommages matériels seulement</td>\n",
       "    </tr>\n",
       "    <tr>\n",
       "      <th>2</th>\n",
       "      <td>Léger</td>\n",
       "    </tr>\n",
       "    <tr>\n",
       "      <th>3</th>\n",
       "      <td>Grave</td>\n",
       "    </tr>\n",
       "    <tr>\n",
       "      <th>4</th>\n",
       "      <td>Mortel</td>\n",
       "    </tr>\n",
       "  </tbody>\n",
       "</table>\n",
       "</div>"
      ],
      "text/plain": [
       "                                           CATEGORIE\n",
       "0  Dommages matériels inférieurs au seuil de rapp...\n",
       "1                       Dommages matériels seulement\n",
       "2                                              Léger\n",
       "3                                              Grave\n",
       "4                                             Mortel"
      ]
     },
     "execution_count": 14,
     "metadata": {},
     "output_type": "execute_result"
    }
   ],
   "source": [
    "df = pd.read_csv(filepath_or_buffer=\"../data/collisions-routieres.csv\")\n",
    "df['GRAVITE']\n",
    "pd.DataFrame({'CATEGORIE': df[\"GRAVITE\"].unique()})"
   ]
  },
  {
   "cell_type": "code",
   "execution_count": 41,
   "metadata": {},
   "outputs": [
    {
     "data": {
      "text/plain": [
       "array(['Dommages matériels inférieurs au seuil de rapportage',\n",
       "       'Dommages matériels seulement',\n",
       "       'Dommages matériels inférieurs au seuil de rapportage', ...,\n",
       "       'Dommages matériels inférieurs au seuil de rapportage', 'Léger',\n",
       "       'Dommages matériels seulement'], dtype=object)"
      ]
     },
     "execution_count": 41,
     "metadata": {},
     "output_type": "execute_result"
    }
   ],
   "source": [
    "df[df['GRAVITE'].str.contains(\"Dommages matériels inférieurs au seuil de rapp\")]\n",
    "df['GRAVITE'].values"
   ]
  },
  {
   "cell_type": "code",
   "execution_count": 29,
   "metadata": {},
   "outputs": [
    {
     "data": {
      "text/plain": [
       "236       1\n",
       "2746      1\n",
       "3489      1\n",
       "7234      1\n",
       "7964      1\n",
       "         ..\n",
       "217032    1\n",
       "217049    1\n",
       "217125    1\n",
       "217673    1\n",
       "217980    1\n",
       "Name: NB_MORTS, Length: 263, dtype: int64"
      ]
     },
     "execution_count": 29,
     "metadata": {},
     "output_type": "execute_result"
    }
   ],
   "source": [
    "filtered_df = df[df['NB_MORTS'] > 0]\n",
    "filtered_df['NB_MORTS']"
   ]
  },
  {
   "cell_type": "code",
   "execution_count": 31,
   "metadata": {},
   "outputs": [
    {
     "data": {
      "text/plain": [
       "52        1\n",
       "679       1\n",
       "741       1\n",
       "757       1\n",
       "980       1\n",
       "         ..\n",
       "217980    1\n",
       "218059    1\n",
       "218114    1\n",
       "218203    1\n",
       "218233    1\n",
       "Name: NB_BLESSES_GRAVES, Length: 1807, dtype: int64"
      ]
     },
     "execution_count": 31,
     "metadata": {},
     "output_type": "execute_result"
    }
   ],
   "source": [
    "filtered_df = df[df['NB_BLESSES_GRAVES'] > 0]\n",
    "filtered_df['NB_BLESSES_GRAVES']"
   ]
  },
  {
   "cell_type": "code",
   "execution_count": 32,
   "metadata": {},
   "outputs": [
    {
     "data": {
      "text/plain": [
       "5         1\n",
       "23        1\n",
       "28        1\n",
       "31        2\n",
       "36        1\n",
       "         ..\n",
       "218263    1\n",
       "218265    1\n",
       "218267    2\n",
       "218268    2\n",
       "218270    1\n",
       "Name: NB_BLESSES_LEGERS, Length: 46240, dtype: int64"
      ]
     },
     "execution_count": 32,
     "metadata": {},
     "output_type": "execute_result"
    }
   ],
   "source": [
    "filtered_df = df[df['NB_BLESSES_LEGERS'] > 0]\n",
    "filtered_df['NB_BLESSES_LEGERS']"
   ]
  }
 ],
 "metadata": {
  "kernelspec": {
   "display_name": ".venv",
   "language": "python",
   "name": "python3"
  },
  "language_info": {
   "codemirror_mode": {
    "name": "ipython",
    "version": 3
   },
   "file_extension": ".py",
   "mimetype": "text/x-python",
   "name": "python",
   "nbconvert_exporter": "python",
   "pygments_lexer": "ipython3",
   "version": "3.11.5"
  }
 },
 "nbformat": 4,
 "nbformat_minor": 2
}
