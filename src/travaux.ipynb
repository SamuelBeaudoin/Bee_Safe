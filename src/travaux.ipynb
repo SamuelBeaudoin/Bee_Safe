{
 "cells": [
  {
   "cell_type": "code",
   "execution_count": 1,
   "metadata": {},
   "outputs": [
    {
     "name": "stderr",
     "output_type": "stream",
     "text": [
      "/var/folders/66/lykx91p150q4wl3w7w5ypwdh0000gn/T/ipykernel_90358/2165325793.py:1: DeprecationWarning: \n",
      "Pyarrow will become a required dependency of pandas in the next major release of pandas (pandas 3.0),\n",
      "(to allow more performant data types, such as the Arrow string type, and better interoperability with other libraries)\n",
      "but was not found to be installed on your system.\n",
      "If this would cause problems for you,\n",
      "please provide us feedback at https://github.com/pandas-dev/pandas/issues/54466\n",
      "        \n",
      "  import pandas as pd\n"
     ]
    }
   ],
   "source": [
    "import pandas as pd\n",
    "import plotly.express as px"
   ]
  },
  {
   "cell_type": "code",
   "execution_count": 4,
   "metadata": {},
   "outputs": [
    {
     "name": "stdout",
     "output_type": "stream",
     "text": [
      "<class 'pandas.core.frame.DataFrame'>\n",
      "RangeIndex: 952 entries, 0 to 951\n",
      "Data columns (total 42 columns):\n",
      " #   Column                           Non-Null Count  Dtype  \n",
      "---  ------                           --------------  -----  \n",
      " 0   id                               952 non-null    object \n",
      " 1   permit_permit_id                 952 non-null    object \n",
      " 2   boroughid                        952 non-null    object \n",
      " 3   permitcategory                   952 non-null    object \n",
      " 4   currentstatus                    952 non-null    object \n",
      " 5   duration_start_date              952 non-null    object \n",
      " 6   duration_end_date                952 non-null    object \n",
      " 7   reason_category                  952 non-null    object \n",
      " 8   occupancy_name                   952 non-null    object \n",
      " 9   submittercategory                911 non-null    object \n",
      " 10  organizationname                 869 non-null    object \n",
      " 11  duration_days_mon_active         952 non-null    object \n",
      " 12  duration_days_mon_all_day_round  952 non-null    object \n",
      " 13  duration_days_tue_active         952 non-null    object \n",
      " 14  duration_days_tue_all_day_round  952 non-null    object \n",
      " 15  duration_days_wed_active         952 non-null    object \n",
      " 16  duration_days_wed_all_day_round  952 non-null    object \n",
      " 17  duration_days_thu_active         952 non-null    object \n",
      " 18  duration_days_thu_all_day_round  952 non-null    object \n",
      " 19  duration_days_fri_active         952 non-null    object \n",
      " 20  duration_days_fri_all_day_round  952 non-null    object \n",
      " 21  duration_days_sat_active         952 non-null    object \n",
      " 22  duration_days_sat_all_day_round  952 non-null    object \n",
      " 23  duration_days_sun_active         952 non-null    object \n",
      " 24  duration_days_sun_all_day_round  952 non-null    object \n",
      " 25  duration_days_sat_start_time     36 non-null     object \n",
      " 26  duration_days_sat_end_time       36 non-null     object \n",
      " 27  duration_days_mon_start_time     444 non-null    object \n",
      " 28  duration_days_mon_end_time       444 non-null    object \n",
      " 29  duration_days_tue_start_time     444 non-null    object \n",
      " 30  duration_days_tue_end_time       444 non-null    object \n",
      " 31  duration_days_wed_start_time     444 non-null    object \n",
      " 32  duration_days_wed_end_time       444 non-null    object \n",
      " 33  duration_days_thu_start_time     444 non-null    object \n",
      " 34  duration_days_thu_end_time       444 non-null    object \n",
      " 35  duration_days_fri_start_time     444 non-null    object \n",
      " 36  duration_days_fri_end_time       444 non-null    object \n",
      " 37  duration_days_sun_start_time     18 non-null     object \n",
      " 38  duration_days_sun_end_time       18 non-null     object \n",
      " 39  load_date                        952 non-null    object \n",
      " 40  longitude                        952 non-null    float64\n",
      " 41  latitude                         952 non-null    float64\n",
      "dtypes: float64(2), object(40)\n",
      "memory usage: 312.5+ KB\n"
     ]
    }
   ],
   "source": [
    "df = pd.read_csv(\"../data/travaux.csv\")\n",
    "df.info()\n",
    "\n"
   ]
  },
  {
   "cell_type": "code",
   "execution_count": 8,
   "metadata": {},
   "outputs": [
    {
     "data": {
      "text/plain": [
       "0      2024-12-22T18:59:59Z\n",
       "1      2024-01-19T18:59:59Z\n",
       "2      2024-01-19T18:59:59Z\n",
       "3      2024-01-19T18:59:59Z\n",
       "4      2024-01-31T18:59:59Z\n",
       "               ...         \n",
       "947    2024-12-21T18:59:59Z\n",
       "948    2024-11-08T18:59:59Z\n",
       "949    2024-10-31T19:59:59Z\n",
       "950    2024-04-15T19:59:59Z\n",
       "951    2025-12-31T18:59:59Z\n",
       "Name: duration_end_date, Length: 952, dtype: object"
      ]
     },
     "execution_count": 8,
     "metadata": {},
     "output_type": "execute_result"
    }
   ],
   "source": [
    "df['duration_end_date']"
   ]
  }
 ],
 "metadata": {
  "kernelspec": {
   "display_name": ".venv",
   "language": "python",
   "name": "python3"
  },
  "language_info": {
   "codemirror_mode": {
    "name": "ipython",
    "version": 3
   },
   "file_extension": ".py",
   "mimetype": "text/x-python",
   "name": "python",
   "nbconvert_exporter": "python",
   "pygments_lexer": "ipython3",
   "version": "3.11.5"
  }
 },
 "nbformat": 4,
 "nbformat_minor": 2
}
